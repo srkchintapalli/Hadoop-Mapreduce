{
 "cells": [
  {
   "cell_type": "markdown",
   "metadata": {},
   "source": [
    "Install VM and hortonworks 2.5 in your local machine."
   ]
  },
  {
   "cell_type": "markdown",
   "metadata": {},
   "source": [
    "Install Putty"
   ]
  },
  {
   "cell_type": "markdown",
   "metadata": {},
   "source": [
    "SSH using maria_dev@127.0.0.1 port 2222"
   ]
  },
  {
   "cell_type": "markdown",
   "metadata": {},
   "source": [
    "Login to root su root and password will be hadoop(all lower case)"
   ]
  },
  {
   "cell_type": "markdown",
   "metadata": {},
   "source": [
    "# Install python and MRjob on hadoop "
   ]
  },
  {
   "cell_type": "markdown",
   "metadata": {},
   "source": [
    "list of commands which need to be executed if you face error installing pip\n",
    "\n",
    "cd /etc/yum.repos.d\n",
    "cp sandbox.repo /tmp\n",
    "rm snadbox.repo\n",
    "entry Yes\n",
    "cd ~ (this will take you to the rootsandbox)\n",
    "\n",
    "-----------------------------------------------------\n",
    "yum intall python-pip\n",
    "pip install mrjob==0.5.11\n",
    "\n",
    "If you see any google api errors use the below cmd\n",
    "\n",
    "pip install google-api-python-client==1.6.4\n",
    "\n",
    "yum install nano(text editor)"
   ]
  },
  {
   "cell_type": "markdown",
   "metadata": {},
   "source": [
    "# Download data from web to hadoop file system"
   ]
  },
  {
   "cell_type": "markdown",
   "metadata": {},
   "source": [
    "cmd to get the data --- wget http://media.sundog-soft.com/hadoop/ml-100k/u.data\n",
    "    "
   ]
  },
  {
   "cell_type": "markdown",
   "metadata": {},
   "source": [
    "# Python Script Mapreduce "
   ]
  },
  {
   "cell_type": "code",
   "execution_count": null,
   "metadata": {},
   "outputs": [],
   "source": [
    "from mrjob.job import MRJob\n",
    "from mrjob.step import MRStep\n",
    "class Rating(MRJob):\n",
    "    def steps(self):\n",
    "        return[\n",
    "            MRStep(mapper=self.mapper_get_ratings,\n",
    "                  reducer=self.reduce_count_ratings)\n",
    "        ]\n",
    "    def mapper_get_ratings(self,_,line):\n",
    "        (userID, movieID,rating,time) = line.split('\\t')\n",
    "        yield rating,1\n",
    "    def reducer_count_ratings(self,key,values):\n",
    "        yield key, sum(values)\n",
    "if __name__=='__main__':\n",
    "    Rating.run()"
   ]
  },
  {
   "cell_type": "markdown",
   "metadata": {},
   "source": [
    "# popular movies and ratings in sorted order"
   ]
  },
  {
   "cell_type": "code",
   "execution_count": null,
   "metadata": {},
   "outputs": [],
   "source": [
    "from mrjob.job import MRJob\n",
    "from mrjob.step import MRStep\n",
    "class Rating(MRJob):\n",
    "    def steps(self):\n",
    "        return[\n",
    "            MRStep(mapper=self.mapper_get_ratings,\n",
    "                  reducer=self.reduce_count_ratings)\n",
    "            MRStep(reducer=self.reduce_sorted_output)\n",
    "        ]\n",
    "    def mapper_get_ratings(self,_,line):\n",
    "        (userID, movieID,rating,time) = line.split('\\t')\n",
    "        yield movieID,1\n",
    "    \n",
    "    def reduce_count_ratings(self,key,values):\n",
    "        yield str(sum(values)).zfill(5),key  # we changed the order because we need to sort by rating count\n",
    "    \n",
    "    def reduce_sorted_output(self,count,movies):\n",
    "        for movie in movies:\n",
    "            yield movie, count\n",
    "        \n",
    "if __name__=='__main__':\n",
    "    Rating.run()"
   ]
  },
  {
   "cell_type": "code",
   "execution_count": null,
   "metadata": {},
   "outputs": [],
   "source": []
  }
 ],
 "metadata": {
  "kernelspec": {
   "display_name": "Python 3",
   "language": "python",
   "name": "python3"
  },
  "language_info": {
   "codemirror_mode": {
    "name": "ipython",
    "version": 3
   },
   "file_extension": ".py",
   "mimetype": "text/x-python",
   "name": "python",
   "nbconvert_exporter": "python",
   "pygments_lexer": "ipython3",
   "version": "3.7.3"
  }
 },
 "nbformat": 4,
 "nbformat_minor": 2
}
